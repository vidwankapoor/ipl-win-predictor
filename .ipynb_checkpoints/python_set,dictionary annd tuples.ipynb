{
 "cells": [
  {
   "cell_type": "code",
   "execution_count": 5,
   "id": "6b22d39e-f5db-4381-a079-f3eb06db7f8e",
   "metadata": {},
   "outputs": [
    {
     "name": "stdout",
     "output_type": "stream",
     "text": [
      "<class 'set'>\n",
      "{'rk', 'gk', 'vk', 'sk'}\n",
      "{'gk', 'sk', 'rk', 'pk', 'vk'}\n"
     ]
    }
   ],
   "source": [
    "\n",
    "# sets\n",
    "var_set = {\"vk\",'rk','sk'}\n",
    "print(type(var_set))\n",
    "\n",
    "var_set.add('gk');\n",
    "print(var_set)\n",
    "\n",
    "var_set.add('pk');\n",
    "print(var_set)"
   ]
  },
  {
   "cell_type": "code",
   "execution_count": null,
   "id": "0fbcd73f-5f83-4e07-847c-87e9b53fd261",
   "metadata": {},
   "outputs": [],
   "source": []
  }
 ],
 "metadata": {
  "kernelspec": {
   "display_name": "Python 3 (ipykernel)",
   "language": "python",
   "name": "python3"
  },
  "language_info": {
   "codemirror_mode": {
    "name": "ipython",
    "version": 3
   },
   "file_extension": ".py",
   "mimetype": "text/x-python",
   "name": "python",
   "nbconvert_exporter": "python",
   "pygments_lexer": "ipython3",
   "version": "3.11.3"
  }
 },
 "nbformat": 4,
 "nbformat_minor": 5
}

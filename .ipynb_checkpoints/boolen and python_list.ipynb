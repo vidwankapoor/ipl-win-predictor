{
 "cells": [
  {
   "cell_type": "code",
   "execution_count": 23,
   "id": "7af42f6e-ef5e-4813-ae58-42f7159c37c3",
   "metadata": {},
   "outputs": [
    {
     "name": "stdout",
     "output_type": "stream",
     "text": [
      "True\n"
     ]
    }
   ],
   "source": [
    "mystr = \"Vidwan\"\n",
    "print(mystr.istitle())\n"
   ]
  },
  {
   "cell_type": "code",
   "execution_count": 31,
   "id": "ca01629a-bc90-4c2c-9ea6-4566bd99ff80",
   "metadata": {},
   "outputs": [
    {
     "name": "stdout",
     "output_type": "stream",
     "text": [
      "True\n",
      "True\n",
      "False\n",
      "True\n",
      "False\n",
      "False\n",
      "False\n",
      "True\n",
      "True\n"
     ]
    }
   ],
   "source": [
    "mystr = \"Vidwanapoor\"\n",
    "print(mystr.isalnum())\n",
    "print(mystr.isalpha())\n",
    "print(mystr.isdigit())\n",
    "print(mystr.istitle())\n",
    "print(mystr.isupper())\n",
    "print(mystr.islower())\n",
    "print(mystr.isspace())\n",
    "print(mystr.endswith('r'))\n",
    "print(mystr.startswith('V'))"
   ]
  },
  {
   "cell_type": "code",
   "execution_count": 50,
   "id": "b41b437b-7d01-4308-8f02-b048214bea34",
   "metadata": {},
   "outputs": [
    {
     "name": "stdout",
     "output_type": "stream",
     "text": [
      "[3000, 'vidwam', 20, 50, 'subject', 'vk']\n",
      "['vidwam', 50]\n"
     ]
    }
   ],
   "source": [
    "lst = ['vidwam', 20, 50, 'subject']\n",
    "lst.append('vk')\n",
    "lst.insert(0,3000)\n",
    "print(lst)\n",
    "print(lst[1:5:2])"
   ]
  },
  {
   "cell_type": "code",
   "execution_count": 2,
   "id": "2c84bf35-31ed-4839-b9cb-c62a0ba02112",
   "metadata": {},
   "outputs": [
    {
     "data": {
      "text/plain": [
       "3"
      ]
     },
     "execution_count": 2,
     "metadata": {},
     "output_type": "execute_result"
    }
   ],
   "source": [
    "lst = [3,4,5,2,6,7]\n",
    "lst.index(2,0,5)"
   ]
  },
  {
   "cell_type": "code",
   "execution_count": null,
   "id": "3e4da805-fdbf-4e48-bbe3-8ff98affbf9c",
   "metadata": {},
   "outputs": [],
   "source": []
  }
 ],
 "metadata": {
  "kernelspec": {
   "display_name": "Python 3 (ipykernel)",
   "language": "python",
   "name": "python3"
  },
  "language_info": {
   "codemirror_mode": {
    "name": "ipython",
    "version": 3
   },
   "file_extension": ".py",
   "mimetype": "text/x-python",
   "name": "python",
   "nbconvert_exporter": "python",
   "pygments_lexer": "ipython3",
   "version": "3.11.3"
  }
 },
 "nbformat": 4,
 "nbformat_minor": 5
}
